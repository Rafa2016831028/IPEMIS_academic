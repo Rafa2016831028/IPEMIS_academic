{
  "nbformat": 4,
  "nbformat_minor": 0,
  "metadata": {
    "colab": {
      "provenance": [],
      "authorship_tag": "ABX9TyP+kv8pX7D/8TDBomyWuw0l",
      "include_colab_link": true
    },
    "kernelspec": {
      "name": "python3",
      "display_name": "Python 3"
    },
    "language_info": {
      "name": "python"
    }
  },
  "cells": [
    {
      "cell_type": "markdown",
      "metadata": {
        "id": "view-in-github",
        "colab_type": "text"
      },
      "source": [
        "<a href=\"https://colab.research.google.com/github/Rafa2016831028/IPEMIS_academic/blob/main/Data_Cleaner.ipynb\" target=\"_parent\"><img src=\"https://colab.research.google.com/assets/colab-badge.svg\" alt=\"Open In Colab\"/></a>"
      ]
    },
    {
      "cell_type": "code",
      "execution_count": null,
      "metadata": {
        "id": "UNT8lzQwjxL5"
      },
      "outputs": [],
      "source": [
        "# Import necessary libraries\n",
        "import pandas as pd\n",
        "from google.colab import files\n",
        "import numpy as np\n",
        "from datetime import datetime, timedelta\n",
        "\n",
        "# Upload the file\n",
        "uploaded = files.upload()\n",
        "\n",
        "\n",
        "# Get the uploaded file name\n",
        "file_name = list(uploaded.keys())[0]\n",
        "\n",
        "# Read the file into a pandas DataFrame\n",
        "df = pd.read_csv(file_name)\n",
        "\n",
        "# Display the first few rows of the DataFrame\n",
        "print(\"Preview of the uploaded file:\")\n",
        "print(df.head())\n"
      ]
    },
    {
      "cell_type": "code",
      "source": [
        "# Check data types, null values, and basic statistics\n",
        "print(df.info())\n",
        "print(df.describe())"
      ],
      "metadata": {
        "id": "nJIGrlLgkM9V"
      },
      "execution_count": null,
      "outputs": []
    },
    {
      "cell_type": "markdown",
      "source": [
        "# Identify Missing Values:"
      ],
      "metadata": {
        "id": "lSv7HdJilVr_"
      }
    },
    {
      "cell_type": "code",
      "source": [
        "#Identify Missing Values:\n",
        "print(data.isnull().sum())\n",
        "\n",
        "#Impute or Drop Missing Values:\n",
        "# Drop rows or columns\n",
        "\n",
        "data.dropna(inplace=True)  # Remove rows with missing values\n",
        "\n",
        "\n",
        "# Fill missing values\n",
        "data['column_name'].fillna(value, inplace=True)\n",
        "data['column_name'].fillna(data['column_name'].mean(), inplace=True)  # Example for numeric columns\n"
      ],
      "metadata": {
        "id": "ETLxRw14kQ1D"
      },
      "execution_count": null,
      "outputs": []
    },
    {
      "cell_type": "markdown",
      "source": [
        "### Step 3: Remove Duplicates\n"
      ],
      "metadata": {
        "id": "ByRh2_Bjk2L1"
      }
    },
    {
      "cell_type": "code",
      "source": [
        "#Check and Remove Duplicates:\n",
        "print(data.duplicated().sum())\n",
        "data.drop_duplicates(inplace=True)\n",
        "\n"
      ],
      "metadata": {
        "id": "CYqF3nwUlEZP"
      },
      "execution_count": null,
      "outputs": []
    },
    {
      "cell_type": "markdown",
      "source": [
        "# Step 4: Handle Outliers"
      ],
      "metadata": {
        "id": "88OX7jzSlqnj"
      }
    },
    {
      "cell_type": "code",
      "source": [
        "#Use boxplots to detect outliers:\n",
        "import matplotlib.pyplot as plt\n",
        "data.boxplot(column=['column_name'])\n",
        "plt.show()\n",
        "\n",
        "\n",
        "#Remove or Cap Outliers:\n",
        "#Remove Outliers\n",
        "data = data[data['column_name'] < threshold]\n",
        "\n",
        "\n",
        "# Cap Outliers\n",
        "data['column_name'] = data['column_name'].clip(lower=lower_limit, upper=upper_limit)\n"
      ],
      "metadata": {
        "id": "KXcQY_4MltAL"
      },
      "execution_count": null,
      "outputs": []
    },
    {
      "cell_type": "markdown",
      "source": [
        "# Step 5: Standardize/Normalize Data\n"
      ],
      "metadata": {
        "id": "qw2v1qFzmLXh"
      }
    },
    {
      "cell_type": "code",
      "source": [
        "#Standardize Numeric Data:\n",
        "\n",
        "#Use z-score normalization\n",
        "from sklearn.preprocessing import StandardScaler\n",
        "scaler = StandardScaler()\n",
        "data['normalized_column'] = scaler.fit_transform(data[['column_name']])\n",
        "\n",
        "\n",
        "#Normalize Data to [0, 1]:\n",
        "from sklearn.preprocessing import MinMaxScaler\n",
        "scaler = MinMaxScaler()\n",
        "data[['column1', 'column2']] = scaler.fit_transform(data[['column1', 'column2']])\n"
      ],
      "metadata": {
        "id": "pLJo0tIqmKKd"
      },
      "execution_count": null,
      "outputs": []
    },
    {
      "cell_type": "markdown",
      "source": [
        "# Step 6: Handle Categorical Data"
      ],
      "metadata": {
        "id": "DpEQFThemmrq"
      }
    },
    {
      "cell_type": "code",
      "source": [
        "#Convert Categorical to Numeric:\n",
        "# One-hot encoding:\n",
        "\n",
        "data = pd.get_dummies(data, columns=['categorical_column'])\n",
        "\n",
        "# Label encoding\n",
        "from sklearn.preprocessing import LabelEncoder\n",
        "encoder = LabelEncoder()\n",
        "data['categorical_column'] = encoder.fit_transform(data['categorical_column'])\n"
      ],
      "metadata": {
        "id": "C9NAkLjrmsT7"
      },
      "execution_count": null,
      "outputs": []
    },
    {
      "cell_type": "code",
      "source": [
        "Step 7: Feature Engineering"
      ],
      "metadata": {
        "colab": {
          "base_uri": "https://localhost:8080/",
          "height": 108
        },
        "id": "2TTmbiGjnDly",
        "outputId": "936eb71c-96f7-4c46-c465-e3e9bab75c2f"
      },
      "execution_count": null,
      "outputs": [
        {
          "output_type": "error",
          "ename": "SyntaxError",
          "evalue": "invalid syntax (<ipython-input-1-341dfa884ca0>, line 1)",
          "traceback": [
            "\u001b[0;36m  File \u001b[0;32m\"<ipython-input-1-341dfa884ca0>\"\u001b[0;36m, line \u001b[0;32m1\u001b[0m\n\u001b[0;31m    Step 7: Feature Engineering\u001b[0m\n\u001b[0m         ^\u001b[0m\n\u001b[0;31mSyntaxError\u001b[0m\u001b[0;31m:\u001b[0m invalid syntax\n"
          ]
        }
      ]
    },
    {
      "cell_type": "code",
      "source": [],
      "metadata": {
        "id": "T4tiuvp8nDnQ"
      },
      "execution_count": null,
      "outputs": []
    }
  ]
}